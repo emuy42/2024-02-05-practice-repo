{
 "cells": [
  {
   "cell_type": "code",
   "execution_count": 1,
   "id": "866175a0",
   "metadata": {},
   "outputs": [
    {
     "data": {
      "text/plain": [
       "(762, 294, 334, 47)"
      ]
     },
     "execution_count": 1,
     "metadata": {},
     "output_type": "execute_result"
    }
   ],
   "source": [
    "## assign vars for murder totals\n",
    "chi_murders, la_murders, nyc_murders, sj_murders = 762, 294, 334, 47\n",
    "chi_murders, la_murders, nyc_murders, sj_murders"
   ]
  },
  {
   "cell_type": "code",
   "execution_count": 2,
   "id": "78ef9c38",
   "metadata": {},
   "outputs": [
    {
     "data": {
      "text/plain": [
       "(2705000, 3976000, 8538000, 1025000)"
      ]
     },
     "execution_count": 2,
     "metadata": {},
     "output_type": "execute_result"
    }
   ],
   "source": [
    "## assign vars for population totals\n",
    "chi_pop, la_pop, nyc_pop, sj_pop = 2_705_000, 3_976_000, 8_538_000, 1_025_000\n",
    "chi_pop, la_pop, nyc_pop, sj_pop"
   ]
  },
  {
   "cell_type": "code",
   "execution_count": 3,
   "id": "dc6c0998",
   "metadata": {},
   "outputs": [
    {
     "data": {
      "text/plain": [
       "(28.170055452865068, 7.394366197183098, 3.911923167018037, 4.585365853658536)"
      ]
     },
     "execution_count": 3,
     "metadata": {},
     "output_type": "execute_result"
    }
   ],
   "source": [
    "## calculate and assign vars for murder rates per 100k\n",
    "chi_mrate = chi_murders / chi_pop * 100_000\n",
    "la_mrate = la_murders / la_pop * 100_000\n",
    "nyc_mrate = nyc_murders / nyc_pop * 100_000\n",
    "sj_mrate = sj_murders / sj_pop * 100_000\n",
    "chi_mrate, la_mrate, nyc_mrate, sj_mrate"
   ]
  },
  {
   "cell_type": "code",
   "execution_count": 5,
   "id": "1eefc7eb",
   "metadata": {},
   "outputs": [
    {
     "name": "stdout",
     "output_type": "stream",
     "text": [
      "Of all the cities surveyed, Chicago has the highest murder rate per 100,000 people at 28.17%, and New York has the lowest, at 3.91%.\n"
     ]
    }
   ],
   "source": [
    "print (f\"Of all the cities surveyed, \\\n",
    "Chicago has the highest murder rate per 100,000 people at {round(chi_mrate,2)}%, \\\n",
    "and New York has the lowest, at {round(nyc_mrate,2)}%.\")\n"
   ]
  }
 ],
 "metadata": {
  "kernelspec": {
   "display_name": "Python 3 (ipykernel)",
   "language": "python",
   "name": "python3"
  },
  "language_info": {
   "codemirror_mode": {
    "name": "ipython",
    "version": 3
   },
   "file_extension": ".py",
   "mimetype": "text/x-python",
   "name": "python",
   "nbconvert_exporter": "python",
   "pygments_lexer": "ipython3",
   "version": "3.11.5"
  }
 },
 "nbformat": 4,
 "nbformat_minor": 5
}
